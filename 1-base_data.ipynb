{
 "cells": [
  {
   "cell_type": "markdown",
   "id": "844e9306-9193-40df-89ad-19a70ff5c4cd",
   "metadata": {},
   "source": [
    "# [#base_data] - Analyse et traitement des données sources"
   ]
  },
  {
   "cell_type": "markdown",
   "id": "1e6a9e92-334d-4b2f-823a-38a15f10dabb",
   "metadata": {},
   "source": [
    "## 1 - Import des modules"
   ]
  },
  {
   "cell_type": "code",
   "execution_count": 1,
   "id": "1878b8e9-d8d1-487e-bc81-da426ca25782",
   "metadata": {},
   "outputs": [],
   "source": [
    "import pandas as pd"
   ]
  },
  {
   "cell_type": "markdown",
   "id": "1d34c9c7-96fe-481f-b4c0-977858fbbda9",
   "metadata": {},
   "source": [
    "## 2 - Import des données"
   ]
  },
  {
   "cell_type": "code",
   "execution_count": 2,
   "id": "9769dedf-f0ce-4031-a4b7-8b50ddeb331f",
   "metadata": {},
   "outputs": [],
   "source": [
    "# Import des données\n",
    "spreadsheet_id = \"1EQ3eFvU0fvaok_Ifl0sijaS1_WD_5xycf8kItBilmxw\" \n",
    "sheet_id = \"480090483\"\n",
    "url_data = f\"https://docs.google.com/spreadsheets/d/{spreadsheet_id}/export?format=csv&gid={sheet_id}\""
   ]
  },
  {
   "cell_type": "code",
   "execution_count": 3,
   "id": "0e1d09eb-e7a6-48bc-883b-11484bf2cea9",
   "metadata": {},
   "outputs": [],
   "source": [
    "# Conversion en DataFrame et GeoDataFrame\n",
    "data = pd.read_csv(url_data)"
   ]
  },
  {
   "cell_type": "markdown",
   "id": "ea99ae5b-7c70-4797-a7ff-7eac313635dd",
   "metadata": {},
   "source": [
    "## 3 - Exploration et nettoyage des données "
   ]
  },
  {
   "cell_type": "markdown",
   "id": "78de5c83-98e8-40d6-b465-1b3b079e247e",
   "metadata": {},
   "source": [
    "### 3.1 - Structure de données"
   ]
  },
  {
   "cell_type": "code",
   "execution_count": 4,
   "id": "8aa27bb7-78e2-463d-abbc-c67e806d1160",
   "metadata": {},
   "outputs": [
    {
     "name": "stdout",
     "output_type": "stream",
     "text": [
      "<class 'pandas.core.frame.DataFrame'>\n",
      "RangeIndex: 101 entries, 0 to 100\n",
      "Data columns (total 10 columns):\n",
      " #   Column                 Non-Null Count  Dtype  \n",
      "---  ------                 --------------  -----  \n",
      " 0   dep-code               101 non-null    object \n",
      " 1   dep-code-txt           101 non-null    object \n",
      " 2   dep-nom                101 non-null    object \n",
      " 3   sapin-nb-exploitation  84 non-null     float64\n",
      " 4   sapin-nb-hectare       82 non-null     float64\n",
      " 5   total-nb-expl          101 non-null    int64  \n",
      " 6   total-nb-ha            99 non-null     float64\n",
      " 7   pct-expl               101 non-null    object \n",
      " 8   pct-hect               101 non-null    object \n",
      " 9   region                 8 non-null      object \n",
      "dtypes: float64(3), int64(1), object(6)\n",
      "memory usage: 8.0+ KB\n"
     ]
    }
   ],
   "source": [
    "data.info()"
   ]
  },
  {
   "cell_type": "code",
   "execution_count": 5,
   "id": "6ab3c102-0353-4971-af8f-97c7bb3f5639",
   "metadata": {},
   "outputs": [
    {
     "data": {
      "text/html": [
       "<div>\n",
       "<style scoped>\n",
       "    .dataframe tbody tr th:only-of-type {\n",
       "        vertical-align: middle;\n",
       "    }\n",
       "\n",
       "    .dataframe tbody tr th {\n",
       "        vertical-align: top;\n",
       "    }\n",
       "\n",
       "    .dataframe thead th {\n",
       "        text-align: right;\n",
       "    }\n",
       "</style>\n",
       "<table border=\"1\" class=\"dataframe\">\n",
       "  <thead>\n",
       "    <tr style=\"text-align: right;\">\n",
       "      <th></th>\n",
       "      <th>dep-code</th>\n",
       "      <th>dep-code-txt</th>\n",
       "      <th>dep-nom</th>\n",
       "      <th>sapin-nb-exploitation</th>\n",
       "      <th>sapin-nb-hectare</th>\n",
       "      <th>total-nb-expl</th>\n",
       "      <th>total-nb-ha</th>\n",
       "      <th>pct-expl</th>\n",
       "      <th>pct-hect</th>\n",
       "      <th>region</th>\n",
       "    </tr>\n",
       "  </thead>\n",
       "  <tbody>\n",
       "    <tr>\n",
       "      <th>0</th>\n",
       "      <td>58</td>\n",
       "      <td>58</td>\n",
       "      <td>Nièvre</td>\n",
       "      <td>59.0</td>\n",
       "      <td>879.0</td>\n",
       "      <td>2715</td>\n",
       "      <td>367818.0</td>\n",
       "      <td>2,2</td>\n",
       "      <td>0,2</td>\n",
       "      <td>morvan</td>\n",
       "    </tr>\n",
       "    <tr>\n",
       "      <th>1</th>\n",
       "      <td>29</td>\n",
       "      <td>29</td>\n",
       "      <td>Finistère</td>\n",
       "      <td>47.0</td>\n",
       "      <td>650.0</td>\n",
       "      <td>5978</td>\n",
       "      <td>382582.0</td>\n",
       "      <td>0,8</td>\n",
       "      <td>0,2</td>\n",
       "      <td>bretagne</td>\n",
       "    </tr>\n",
       "    <tr>\n",
       "      <th>2</th>\n",
       "      <td>21</td>\n",
       "      <td>21</td>\n",
       "      <td>Côte-d'Or</td>\n",
       "      <td>39.0</td>\n",
       "      <td>378.0</td>\n",
       "      <td>4093</td>\n",
       "      <td>462011.0</td>\n",
       "      <td>1,0</td>\n",
       "      <td>0,1</td>\n",
       "      <td>morvan</td>\n",
       "    </tr>\n",
       "    <tr>\n",
       "      <th>3</th>\n",
       "      <td>14</td>\n",
       "      <td>14</td>\n",
       "      <td>Calvados</td>\n",
       "      <td>38.0</td>\n",
       "      <td>297.0</td>\n",
       "      <td>5181</td>\n",
       "      <td>372938.0</td>\n",
       "      <td>0,7</td>\n",
       "      <td>0,1</td>\n",
       "      <td>NaN</td>\n",
       "    </tr>\n",
       "    <tr>\n",
       "      <th>4</th>\n",
       "      <td>56</td>\n",
       "      <td>56</td>\n",
       "      <td>Morbihan</td>\n",
       "      <td>51.0</td>\n",
       "      <td>267.0</td>\n",
       "      <td>5399</td>\n",
       "      <td>367875.0</td>\n",
       "      <td>0,9</td>\n",
       "      <td>0,1</td>\n",
       "      <td>bretagne</td>\n",
       "    </tr>\n",
       "  </tbody>\n",
       "</table>\n",
       "</div>"
      ],
      "text/plain": [
       "  dep-code dep-code-txt    dep-nom  sapin-nb-exploitation  sapin-nb-hectare  \\\n",
       "0       58           58     Nièvre                   59.0             879.0   \n",
       "1       29           29  Finistère                   47.0             650.0   \n",
       "2       21           21  Côte-d'Or                   39.0             378.0   \n",
       "3       14           14   Calvados                   38.0             297.0   \n",
       "4       56           56   Morbihan                   51.0             267.0   \n",
       "\n",
       "   total-nb-expl  total-nb-ha pct-expl pct-hect    region  \n",
       "0           2715     367818.0      2,2      0,2    morvan  \n",
       "1           5978     382582.0      0,8      0,2  bretagne  \n",
       "2           4093     462011.0      1,0      0,1    morvan  \n",
       "3           5181     372938.0      0,7      0,1       NaN  \n",
       "4           5399     367875.0      0,9      0,1  bretagne  "
      ]
     },
     "execution_count": 5,
     "metadata": {},
     "output_type": "execute_result"
    }
   ],
   "source": [
    "data.head()"
   ]
  },
  {
   "cell_type": "markdown",
   "id": "4e1106bf-1192-4a19-a81d-39ff29de7e7b",
   "metadata": {},
   "source": [
    "### 3.2 - Des donnés null ?\n",
    "> exploration des données nulles "
   ]
  },
  {
   "cell_type": "code",
   "execution_count": 6,
   "id": "2e4cd770-e78c-40b5-92b5-69826689f0a0",
   "metadata": {},
   "outputs": [
    {
     "data": {
      "text/plain": [
       "dep-code                  0\n",
       "dep-code-txt              0\n",
       "dep-nom                   0\n",
       "sapin-nb-exploitation    17\n",
       "sapin-nb-hectare         19\n",
       "total-nb-expl             0\n",
       "total-nb-ha               2\n",
       "pct-expl                  0\n",
       "pct-hect                  0\n",
       "region                   93\n",
       "dtype: int64"
      ]
     },
     "execution_count": 6,
     "metadata": {},
     "output_type": "execute_result"
    }
   ],
   "source": [
    "data.isnull().sum()"
   ]
  },
  {
   "cell_type": "markdown",
   "id": "4e262be7",
   "metadata": {},
   "source": [
    "### 3.3 - Compléter les données régions"
   ]
  },
  {
   "cell_type": "code",
   "execution_count": 7,
   "id": "5722536c-cf4a-4589-964c-504b63b7e7a8",
   "metadata": {},
   "outputs": [
    {
     "data": {
      "text/html": [
       "<div>\n",
       "<style scoped>\n",
       "    .dataframe tbody tr th:only-of-type {\n",
       "        vertical-align: middle;\n",
       "    }\n",
       "\n",
       "    .dataframe tbody tr th {\n",
       "        vertical-align: top;\n",
       "    }\n",
       "\n",
       "    .dataframe thead th {\n",
       "        text-align: right;\n",
       "    }\n",
       "</style>\n",
       "<table border=\"1\" class=\"dataframe\">\n",
       "  <thead>\n",
       "    <tr style=\"text-align: right;\">\n",
       "      <th></th>\n",
       "      <th>num_dep</th>\n",
       "      <th>dep_name</th>\n",
       "      <th>region_name</th>\n",
       "    </tr>\n",
       "  </thead>\n",
       "  <tbody>\n",
       "    <tr>\n",
       "      <th>0</th>\n",
       "      <td>01</td>\n",
       "      <td>Ain</td>\n",
       "      <td>Auvergne-Rhône-Alpes</td>\n",
       "    </tr>\n",
       "    <tr>\n",
       "      <th>1</th>\n",
       "      <td>02</td>\n",
       "      <td>Aisne</td>\n",
       "      <td>Hauts-de-France</td>\n",
       "    </tr>\n",
       "    <tr>\n",
       "      <th>2</th>\n",
       "      <td>03</td>\n",
       "      <td>Allier</td>\n",
       "      <td>Auvergne-Rhône-Alpes</td>\n",
       "    </tr>\n",
       "    <tr>\n",
       "      <th>3</th>\n",
       "      <td>04</td>\n",
       "      <td>Alpes-de-Haute-Provence</td>\n",
       "      <td>Provence-Alpes-Côte d'Azur</td>\n",
       "    </tr>\n",
       "    <tr>\n",
       "      <th>4</th>\n",
       "      <td>05</td>\n",
       "      <td>Hautes-Alpes</td>\n",
       "      <td>Provence-Alpes-Côte d'Azur</td>\n",
       "    </tr>\n",
       "  </tbody>\n",
       "</table>\n",
       "</div>"
      ],
      "text/plain": [
       "  num_dep                 dep_name                 region_name\n",
       "0      01                      Ain        Auvergne-Rhône-Alpes\n",
       "1      02                    Aisne             Hauts-de-France\n",
       "2      03                   Allier        Auvergne-Rhône-Alpes\n",
       "3      04  Alpes-de-Haute-Provence  Provence-Alpes-Côte d'Azur\n",
       "4      05             Hautes-Alpes  Provence-Alpes-Côte d'Azur"
      ]
     },
     "execution_count": 7,
     "metadata": {},
     "output_type": "execute_result"
    }
   ],
   "source": [
    "url_dep = \"https://www.data.gouv.fr/fr/datasets/r/987227fb-dcb2-429e-96af-8979f97c9c84\"\n",
    "dep = pd.read_csv(url_dep)\n",
    "dep.head()"
   ]
  },
  {
   "cell_type": "code",
   "execution_count": 8,
   "id": "d65b87bc-b0ba-4698-8fb0-64cb5b2ea855",
   "metadata": {},
   "outputs": [
    {
     "data": {
      "text/html": [
       "<div>\n",
       "<style scoped>\n",
       "    .dataframe tbody tr th:only-of-type {\n",
       "        vertical-align: middle;\n",
       "    }\n",
       "\n",
       "    .dataframe tbody tr th {\n",
       "        vertical-align: top;\n",
       "    }\n",
       "\n",
       "    .dataframe thead th {\n",
       "        text-align: right;\n",
       "    }\n",
       "</style>\n",
       "<table border=\"1\" class=\"dataframe\">\n",
       "  <thead>\n",
       "    <tr style=\"text-align: right;\">\n",
       "      <th></th>\n",
       "      <th>num_dep</th>\n",
       "      <th>dep_name</th>\n",
       "      <th>region_name</th>\n",
       "    </tr>\n",
       "  </thead>\n",
       "  <tbody>\n",
       "    <tr>\n",
       "      <th>58</th>\n",
       "      <td>58</td>\n",
       "      <td>Nièvre</td>\n",
       "      <td>Bourgogne-Franche-Comté</td>\n",
       "    </tr>\n",
       "  </tbody>\n",
       "</table>\n",
       "</div>"
      ],
      "text/plain": [
       "   num_dep dep_name              region_name\n",
       "58      58   Nièvre  Bourgogne-Franche-Comté"
      ]
     },
     "execution_count": 8,
     "metadata": {},
     "output_type": "execute_result"
    }
   ],
   "source": [
    "# Test de la connexion entre les deux éléments\n",
    "dep[dep[\"dep_name\"] == \"Nièvre\"]"
   ]
  },
  {
   "cell_type": "code",
   "execution_count": 9,
   "id": "1e6fb9aa-0a1a-4ec2-908c-11fee0672164",
   "metadata": {},
   "outputs": [
    {
     "name": "stdout",
     "output_type": "stream",
     "text": [
      "<class 'pandas.core.frame.DataFrame'>\n",
      "RangeIndex: 101 entries, 0 to 100\n",
      "Data columns (total 3 columns):\n",
      " #   Column       Non-Null Count  Dtype \n",
      "---  ------       --------------  ----- \n",
      " 0   num_dep      101 non-null    object\n",
      " 1   dep_name     101 non-null    object\n",
      " 2   region_name  101 non-null    object\n",
      "dtypes: object(3)\n",
      "memory usage: 2.5+ KB\n"
     ]
    }
   ],
   "source": [
    "dep.info()"
   ]
  },
  {
   "cell_type": "code",
   "execution_count": 10,
   "id": "813506a4-863b-4f79-8858-c24ca61d3686",
   "metadata": {},
   "outputs": [
    {
     "data": {
      "text/html": [
       "<div>\n",
       "<style scoped>\n",
       "    .dataframe tbody tr th:only-of-type {\n",
       "        vertical-align: middle;\n",
       "    }\n",
       "\n",
       "    .dataframe tbody tr th {\n",
       "        vertical-align: top;\n",
       "    }\n",
       "\n",
       "    .dataframe thead th {\n",
       "        text-align: right;\n",
       "    }\n",
       "</style>\n",
       "<table border=\"1\" class=\"dataframe\">\n",
       "  <thead>\n",
       "    <tr style=\"text-align: right;\">\n",
       "      <th></th>\n",
       "      <th>num_dep</th>\n",
       "      <th>region_name</th>\n",
       "    </tr>\n",
       "  </thead>\n",
       "  <tbody>\n",
       "    <tr>\n",
       "      <th>0</th>\n",
       "      <td>01</td>\n",
       "      <td>Auvergne-Rhône-Alpes</td>\n",
       "    </tr>\n",
       "    <tr>\n",
       "      <th>1</th>\n",
       "      <td>02</td>\n",
       "      <td>Hauts-de-France</td>\n",
       "    </tr>\n",
       "    <tr>\n",
       "      <th>2</th>\n",
       "      <td>03</td>\n",
       "      <td>Auvergne-Rhône-Alpes</td>\n",
       "    </tr>\n",
       "    <tr>\n",
       "      <th>3</th>\n",
       "      <td>04</td>\n",
       "      <td>Provence-Alpes-Côte d'Azur</td>\n",
       "    </tr>\n",
       "    <tr>\n",
       "      <th>4</th>\n",
       "      <td>05</td>\n",
       "      <td>Provence-Alpes-Côte d'Azur</td>\n",
       "    </tr>\n",
       "  </tbody>\n",
       "</table>\n",
       "</div>"
      ],
      "text/plain": [
       "  num_dep                 region_name\n",
       "0      01        Auvergne-Rhône-Alpes\n",
       "1      02             Hauts-de-France\n",
       "2      03        Auvergne-Rhône-Alpes\n",
       "3      04  Provence-Alpes-Côte d'Azur\n",
       "4      05  Provence-Alpes-Côte d'Azur"
      ]
     },
     "execution_count": 10,
     "metadata": {},
     "output_type": "execute_result"
    }
   ],
   "source": [
    "dep = dep[[\"num_dep\", \"region_name\"]]\n",
    "dep.head()"
   ]
  },
  {
   "cell_type": "code",
   "execution_count": 11,
   "id": "2d57d6b3-5daa-4734-958a-f0967e226efa",
   "metadata": {},
   "outputs": [
    {
     "data": {
      "text/html": [
       "<div>\n",
       "<style scoped>\n",
       "    .dataframe tbody tr th:only-of-type {\n",
       "        vertical-align: middle;\n",
       "    }\n",
       "\n",
       "    .dataframe tbody tr th {\n",
       "        vertical-align: top;\n",
       "    }\n",
       "\n",
       "    .dataframe thead th {\n",
       "        text-align: right;\n",
       "    }\n",
       "</style>\n",
       "<table border=\"1\" class=\"dataframe\">\n",
       "  <thead>\n",
       "    <tr style=\"text-align: right;\">\n",
       "      <th></th>\n",
       "      <th>dep-code-txt</th>\n",
       "      <th>dep-nom</th>\n",
       "      <th>sapin-nb-exploitation</th>\n",
       "      <th>sapin-nb-hectare</th>\n",
       "      <th>total-nb-expl</th>\n",
       "      <th>total-nb-ha</th>\n",
       "      <th>region_name</th>\n",
       "    </tr>\n",
       "  </thead>\n",
       "  <tbody>\n",
       "    <tr>\n",
       "      <th>0</th>\n",
       "      <td>58</td>\n",
       "      <td>Nièvre</td>\n",
       "      <td>59.0</td>\n",
       "      <td>879.0</td>\n",
       "      <td>2715</td>\n",
       "      <td>367818.0</td>\n",
       "      <td>Bourgogne-Franche-Comté</td>\n",
       "    </tr>\n",
       "    <tr>\n",
       "      <th>1</th>\n",
       "      <td>29</td>\n",
       "      <td>Finistère</td>\n",
       "      <td>47.0</td>\n",
       "      <td>650.0</td>\n",
       "      <td>5978</td>\n",
       "      <td>382582.0</td>\n",
       "      <td>Bretagne</td>\n",
       "    </tr>\n",
       "    <tr>\n",
       "      <th>2</th>\n",
       "      <td>21</td>\n",
       "      <td>Côte-d'Or</td>\n",
       "      <td>39.0</td>\n",
       "      <td>378.0</td>\n",
       "      <td>4093</td>\n",
       "      <td>462011.0</td>\n",
       "      <td>Bourgogne-Franche-Comté</td>\n",
       "    </tr>\n",
       "    <tr>\n",
       "      <th>3</th>\n",
       "      <td>14</td>\n",
       "      <td>Calvados</td>\n",
       "      <td>38.0</td>\n",
       "      <td>297.0</td>\n",
       "      <td>5181</td>\n",
       "      <td>372938.0</td>\n",
       "      <td>Normandie</td>\n",
       "    </tr>\n",
       "    <tr>\n",
       "      <th>4</th>\n",
       "      <td>56</td>\n",
       "      <td>Morbihan</td>\n",
       "      <td>51.0</td>\n",
       "      <td>267.0</td>\n",
       "      <td>5399</td>\n",
       "      <td>367875.0</td>\n",
       "      <td>Bretagne</td>\n",
       "    </tr>\n",
       "  </tbody>\n",
       "</table>\n",
       "</div>"
      ],
      "text/plain": [
       "  dep-code-txt    dep-nom  sapin-nb-exploitation  sapin-nb-hectare  \\\n",
       "0           58     Nièvre                   59.0             879.0   \n",
       "1           29  Finistère                   47.0             650.0   \n",
       "2           21  Côte-d'Or                   39.0             378.0   \n",
       "3           14   Calvados                   38.0             297.0   \n",
       "4           56   Morbihan                   51.0             267.0   \n",
       "\n",
       "   total-nb-expl  total-nb-ha              region_name  \n",
       "0           2715     367818.0  Bourgogne-Franche-Comté  \n",
       "1           5978     382582.0                 Bretagne  \n",
       "2           4093     462011.0  Bourgogne-Franche-Comté  \n",
       "3           5181     372938.0                Normandie  \n",
       "4           5399     367875.0                 Bretagne  "
      ]
     },
     "execution_count": 11,
     "metadata": {},
     "output_type": "execute_result"
    }
   ],
   "source": [
    "data = data.merge(dep, left_on=\"dep-code-txt\", right_on=\"num_dep\", how=\"inner\")\n",
    "data = data.drop([\"num_dep\", \"dep-code\", \"region\", \"pct-expl\", \"pct-hect\"], axis=1)\n",
    "data.head()"
   ]
  },
  {
   "cell_type": "code",
   "execution_count": 12,
   "id": "a8c6de7e-71be-4151-b0fb-308db9cd6eaf",
   "metadata": {},
   "outputs": [
    {
     "data": {
      "text/plain": [
       "dep-code-txt              0\n",
       "dep-nom                   0\n",
       "sapin-nb-exploitation    17\n",
       "sapin-nb-hectare         19\n",
       "total-nb-expl             0\n",
       "total-nb-ha               2\n",
       "region_name               0\n",
       "dtype: int64"
      ]
     },
     "execution_count": 12,
     "metadata": {},
     "output_type": "execute_result"
    }
   ],
   "source": [
    "data.isnull().sum()"
   ]
  },
  {
   "cell_type": "markdown",
   "id": "24e7188b",
   "metadata": {},
   "source": [
    "### 3.4 - Remplacer les lignes vides par des 0"
   ]
  },
  {
   "cell_type": "code",
   "execution_count": 13,
   "id": "89f15c27-7104-49ae-a313-3a7d0ca52f3a",
   "metadata": {},
   "outputs": [],
   "source": [
    "# Création des filtres\n",
    "mask_filter_1 = data[\"sapin-nb-exploitation\"].isnull()\n",
    "mask_filter_2 = data[\"sapin-nb-hectare\"].isnull()\n",
    "mask_filter_3 = data[\"total-nb-ha\"].isnull()"
   ]
  },
  {
   "cell_type": "code",
   "execution_count": 14,
   "id": "f952a272-dd8a-4585-80a8-f58052158507",
   "metadata": {},
   "outputs": [],
   "source": [
    "# Marquer les données qui seront remplacer pour en garder l'historique\n",
    "data.loc[mask_filter_1, \"sapin-nb-exploitation-is-null\"] = \"True\"\n",
    "data.loc[~mask_filter_1, \"sapin-nb-exploitation-is-null\"] = \"False\"\n",
    "\n",
    "data.loc[mask_filter_2, \"sapin-nb-hectare-is-null\"] = \"True\"\n",
    "data.loc[~mask_filter_2, \"sapin-nb-hectare-is-null\"] = \"False\"\n",
    "\n",
    "data.loc[mask_filter_3, \"total-nb-ha-is-null\"] = \"True\"\n",
    "data.loc[~mask_filter_3, \"total-nb-ha-is-null\"] = \"False\""
   ]
  },
  {
   "cell_type": "code",
   "execution_count": 15,
   "id": "8b1a95bc-7223-4910-9f93-fb3086c18c68",
   "metadata": {},
   "outputs": [],
   "source": [
    "# Remplacer les valeurs\n",
    "values = {\"sapin-nb-exploitation\": 0.0, \"sapin-nb-hectare\": 0.0, \"total-nb-ha\": 0.0}\n",
    "data = data.fillna(value=values)"
   ]
  },
  {
   "cell_type": "code",
   "execution_count": 16,
   "id": "c6a0b5e1-3f95-4220-a28d-e7871d5875e7",
   "metadata": {},
   "outputs": [
    {
     "data": {
      "text/html": [
       "<div>\n",
       "<style scoped>\n",
       "    .dataframe tbody tr th:only-of-type {\n",
       "        vertical-align: middle;\n",
       "    }\n",
       "\n",
       "    .dataframe tbody tr th {\n",
       "        vertical-align: top;\n",
       "    }\n",
       "\n",
       "    .dataframe thead th {\n",
       "        text-align: right;\n",
       "    }\n",
       "</style>\n",
       "<table border=\"1\" class=\"dataframe\">\n",
       "  <thead>\n",
       "    <tr style=\"text-align: right;\">\n",
       "      <th></th>\n",
       "      <th>dep-code-txt</th>\n",
       "      <th>dep-nom</th>\n",
       "      <th>sapin-nb-exploitation</th>\n",
       "      <th>sapin-nb-hectare</th>\n",
       "      <th>total-nb-expl</th>\n",
       "      <th>total-nb-ha</th>\n",
       "      <th>region_name</th>\n",
       "      <th>sapin-nb-exploitation-is-null</th>\n",
       "      <th>sapin-nb-hectare-is-null</th>\n",
       "      <th>total-nb-ha-is-null</th>\n",
       "    </tr>\n",
       "  </thead>\n",
       "  <tbody>\n",
       "    <tr>\n",
       "      <th>81</th>\n",
       "      <td>66</td>\n",
       "      <td>Pyrénées-Orientales</td>\n",
       "      <td>0.0</td>\n",
       "      <td>3.0</td>\n",
       "      <td>3179</td>\n",
       "      <td>68021.0</td>\n",
       "      <td>Occitanie</td>\n",
       "      <td>True</td>\n",
       "      <td>False</td>\n",
       "      <td>False</td>\n",
       "    </tr>\n",
       "    <tr>\n",
       "      <th>82</th>\n",
       "      <td>06</td>\n",
       "      <td>Alpes-Maritimes</td>\n",
       "      <td>0.0</td>\n",
       "      <td>0.0</td>\n",
       "      <td>1154</td>\n",
       "      <td>41141.0</td>\n",
       "      <td>Provence-Alpes-Côte d'Azur</td>\n",
       "      <td>True</td>\n",
       "      <td>True</td>\n",
       "      <td>False</td>\n",
       "    </tr>\n",
       "    <tr>\n",
       "      <th>85</th>\n",
       "      <td>2A</td>\n",
       "      <td>Corse-du-Sud</td>\n",
       "      <td>0.0</td>\n",
       "      <td>0.0</td>\n",
       "      <td>1003</td>\n",
       "      <td>63011.0</td>\n",
       "      <td>Corse</td>\n",
       "      <td>True</td>\n",
       "      <td>True</td>\n",
       "      <td>False</td>\n",
       "    </tr>\n",
       "    <tr>\n",
       "      <th>86</th>\n",
       "      <td>91</td>\n",
       "      <td>Essonne</td>\n",
       "      <td>0.0</td>\n",
       "      <td>0.0</td>\n",
       "      <td>653</td>\n",
       "      <td>83078.0</td>\n",
       "      <td>Île-de-France</td>\n",
       "      <td>True</td>\n",
       "      <td>True</td>\n",
       "      <td>False</td>\n",
       "    </tr>\n",
       "    <tr>\n",
       "      <th>87</th>\n",
       "      <td>971</td>\n",
       "      <td>Guadeloupe</td>\n",
       "      <td>0.0</td>\n",
       "      <td>0.0</td>\n",
       "      <td>7232</td>\n",
       "      <td>31836.0</td>\n",
       "      <td>Guadeloupe</td>\n",
       "      <td>True</td>\n",
       "      <td>True</td>\n",
       "      <td>False</td>\n",
       "    </tr>\n",
       "  </tbody>\n",
       "</table>\n",
       "</div>"
      ],
      "text/plain": [
       "   dep-code-txt              dep-nom  sapin-nb-exploitation  sapin-nb-hectare  \\\n",
       "81           66  Pyrénées-Orientales                    0.0               3.0   \n",
       "82           06      Alpes-Maritimes                    0.0               0.0   \n",
       "85           2A         Corse-du-Sud                    0.0               0.0   \n",
       "86           91              Essonne                    0.0               0.0   \n",
       "87          971           Guadeloupe                    0.0               0.0   \n",
       "\n",
       "    total-nb-expl  total-nb-ha                 region_name  \\\n",
       "81           3179      68021.0                   Occitanie   \n",
       "82           1154      41141.0  Provence-Alpes-Côte d'Azur   \n",
       "85           1003      63011.0                       Corse   \n",
       "86            653      83078.0               Île-de-France   \n",
       "87           7232      31836.0                  Guadeloupe   \n",
       "\n",
       "   sapin-nb-exploitation-is-null sapin-nb-hectare-is-null total-nb-ha-is-null  \n",
       "81                          True                    False               False  \n",
       "82                          True                     True               False  \n",
       "85                          True                     True               False  \n",
       "86                          True                     True               False  \n",
       "87                          True                     True               False  "
      ]
     },
     "execution_count": 16,
     "metadata": {},
     "output_type": "execute_result"
    }
   ],
   "source": [
    "data[data[\"sapin-nb-exploitation-is-null\"] == \"True\"].head()"
   ]
  },
  {
   "cell_type": "code",
   "execution_count": 17,
   "id": "e14cbab4-3add-4a58-bb9d-101ec7e0e6d1",
   "metadata": {},
   "outputs": [
    {
     "data": {
      "text/html": [
       "<div>\n",
       "<style scoped>\n",
       "    .dataframe tbody tr th:only-of-type {\n",
       "        vertical-align: middle;\n",
       "    }\n",
       "\n",
       "    .dataframe tbody tr th {\n",
       "        vertical-align: top;\n",
       "    }\n",
       "\n",
       "    .dataframe thead th {\n",
       "        text-align: right;\n",
       "    }\n",
       "</style>\n",
       "<table border=\"1\" class=\"dataframe\">\n",
       "  <thead>\n",
       "    <tr style=\"text-align: right;\">\n",
       "      <th></th>\n",
       "      <th>dep-code-txt</th>\n",
       "      <th>dep-nom</th>\n",
       "      <th>sapin-nb-exploitation</th>\n",
       "      <th>sapin-nb-hectare</th>\n",
       "      <th>total-nb-expl</th>\n",
       "      <th>total-nb-ha</th>\n",
       "      <th>region_name</th>\n",
       "      <th>sapin-nb-exploitation-is-null</th>\n",
       "      <th>sapin-nb-hectare-is-null</th>\n",
       "      <th>total-nb-ha-is-null</th>\n",
       "    </tr>\n",
       "  </thead>\n",
       "  <tbody>\n",
       "    <tr>\n",
       "      <th>82</th>\n",
       "      <td>06</td>\n",
       "      <td>Alpes-Maritimes</td>\n",
       "      <td>0.0</td>\n",
       "      <td>0.0</td>\n",
       "      <td>1154</td>\n",
       "      <td>41141.0</td>\n",
       "      <td>Provence-Alpes-Côte d'Azur</td>\n",
       "      <td>True</td>\n",
       "      <td>True</td>\n",
       "      <td>False</td>\n",
       "    </tr>\n",
       "    <tr>\n",
       "      <th>83</th>\n",
       "      <td>07</td>\n",
       "      <td>Ardèche</td>\n",
       "      <td>9.0</td>\n",
       "      <td>0.0</td>\n",
       "      <td>3661</td>\n",
       "      <td>122127.0</td>\n",
       "      <td>Auvergne-Rhône-Alpes</td>\n",
       "      <td>False</td>\n",
       "      <td>True</td>\n",
       "      <td>False</td>\n",
       "    </tr>\n",
       "    <tr>\n",
       "      <th>84</th>\n",
       "      <td>13</td>\n",
       "      <td>Bouches-du-Rhône</td>\n",
       "      <td>15.0</td>\n",
       "      <td>0.0</td>\n",
       "      <td>3793</td>\n",
       "      <td>145713.0</td>\n",
       "      <td>Provence-Alpes-Côte d'Azur</td>\n",
       "      <td>False</td>\n",
       "      <td>True</td>\n",
       "      <td>False</td>\n",
       "    </tr>\n",
       "    <tr>\n",
       "      <th>85</th>\n",
       "      <td>2A</td>\n",
       "      <td>Corse-du-Sud</td>\n",
       "      <td>0.0</td>\n",
       "      <td>0.0</td>\n",
       "      <td>1003</td>\n",
       "      <td>63011.0</td>\n",
       "      <td>Corse</td>\n",
       "      <td>True</td>\n",
       "      <td>True</td>\n",
       "      <td>False</td>\n",
       "    </tr>\n",
       "    <tr>\n",
       "      <th>86</th>\n",
       "      <td>91</td>\n",
       "      <td>Essonne</td>\n",
       "      <td>0.0</td>\n",
       "      <td>0.0</td>\n",
       "      <td>653</td>\n",
       "      <td>83078.0</td>\n",
       "      <td>Île-de-France</td>\n",
       "      <td>True</td>\n",
       "      <td>True</td>\n",
       "      <td>False</td>\n",
       "    </tr>\n",
       "  </tbody>\n",
       "</table>\n",
       "</div>"
      ],
      "text/plain": [
       "   dep-code-txt           dep-nom  sapin-nb-exploitation  sapin-nb-hectare  \\\n",
       "82           06   Alpes-Maritimes                    0.0               0.0   \n",
       "83           07           Ardèche                    9.0               0.0   \n",
       "84           13  Bouches-du-Rhône                   15.0               0.0   \n",
       "85           2A      Corse-du-Sud                    0.0               0.0   \n",
       "86           91           Essonne                    0.0               0.0   \n",
       "\n",
       "    total-nb-expl  total-nb-ha                 region_name  \\\n",
       "82           1154      41141.0  Provence-Alpes-Côte d'Azur   \n",
       "83           3661     122127.0        Auvergne-Rhône-Alpes   \n",
       "84           3793     145713.0  Provence-Alpes-Côte d'Azur   \n",
       "85           1003      63011.0                       Corse   \n",
       "86            653      83078.0               Île-de-France   \n",
       "\n",
       "   sapin-nb-exploitation-is-null sapin-nb-hectare-is-null total-nb-ha-is-null  \n",
       "82                          True                     True               False  \n",
       "83                         False                     True               False  \n",
       "84                         False                     True               False  \n",
       "85                          True                     True               False  \n",
       "86                          True                     True               False  "
      ]
     },
     "execution_count": 17,
     "metadata": {},
     "output_type": "execute_result"
    }
   ],
   "source": [
    "data[data[\"sapin-nb-hectare-is-null\"] == \"True\"].head()"
   ]
  },
  {
   "cell_type": "code",
   "execution_count": 18,
   "id": "5f62ad0e-2bcf-492d-b404-2beff8f636ea",
   "metadata": {},
   "outputs": [
    {
     "data": {
      "text/html": [
       "<div>\n",
       "<style scoped>\n",
       "    .dataframe tbody tr th:only-of-type {\n",
       "        vertical-align: middle;\n",
       "    }\n",
       "\n",
       "    .dataframe tbody tr th {\n",
       "        vertical-align: top;\n",
       "    }\n",
       "\n",
       "    .dataframe thead th {\n",
       "        text-align: right;\n",
       "    }\n",
       "</style>\n",
       "<table border=\"1\" class=\"dataframe\">\n",
       "  <thead>\n",
       "    <tr style=\"text-align: right;\">\n",
       "      <th></th>\n",
       "      <th>dep-code-txt</th>\n",
       "      <th>dep-nom</th>\n",
       "      <th>sapin-nb-exploitation</th>\n",
       "      <th>sapin-nb-hectare</th>\n",
       "      <th>total-nb-expl</th>\n",
       "      <th>total-nb-ha</th>\n",
       "      <th>region_name</th>\n",
       "      <th>sapin-nb-exploitation-is-null</th>\n",
       "      <th>sapin-nb-hectare-is-null</th>\n",
       "      <th>total-nb-ha-is-null</th>\n",
       "    </tr>\n",
       "  </thead>\n",
       "  <tbody>\n",
       "    <tr>\n",
       "      <th>90</th>\n",
       "      <td>92</td>\n",
       "      <td>Hauts-de-Seine</td>\n",
       "      <td>0.0</td>\n",
       "      <td>0.0</td>\n",
       "      <td>5</td>\n",
       "      <td>0.0</td>\n",
       "      <td>Île-de-France</td>\n",
       "      <td>True</td>\n",
       "      <td>True</td>\n",
       "      <td>True</td>\n",
       "    </tr>\n",
       "    <tr>\n",
       "      <th>99</th>\n",
       "      <td>75</td>\n",
       "      <td>Ville de Paris</td>\n",
       "      <td>0.0</td>\n",
       "      <td>0.0</td>\n",
       "      <td>5</td>\n",
       "      <td>0.0</td>\n",
       "      <td>Île-de-France</td>\n",
       "      <td>True</td>\n",
       "      <td>True</td>\n",
       "      <td>True</td>\n",
       "    </tr>\n",
       "  </tbody>\n",
       "</table>\n",
       "</div>"
      ],
      "text/plain": [
       "   dep-code-txt         dep-nom  sapin-nb-exploitation  sapin-nb-hectare  \\\n",
       "90           92  Hauts-de-Seine                    0.0               0.0   \n",
       "99           75  Ville de Paris                    0.0               0.0   \n",
       "\n",
       "    total-nb-expl  total-nb-ha    region_name sapin-nb-exploitation-is-null  \\\n",
       "90              5          0.0  Île-de-France                          True   \n",
       "99              5          0.0  Île-de-France                          True   \n",
       "\n",
       "   sapin-nb-hectare-is-null total-nb-ha-is-null  \n",
       "90                     True                True  \n",
       "99                     True                True  "
      ]
     },
     "execution_count": 18,
     "metadata": {},
     "output_type": "execute_result"
    }
   ],
   "source": [
    "data[data[\"total-nb-ha-is-null\"] == \"True\"].head()"
   ]
  },
  {
   "cell_type": "code",
   "execution_count": 19,
   "id": "37acf1d1-678f-4203-9769-179d3fae956f",
   "metadata": {},
   "outputs": [
    {
     "data": {
      "text/plain": [
       "dep-code-txt                     0\n",
       "dep-nom                          0\n",
       "sapin-nb-exploitation            0\n",
       "sapin-nb-hectare                 0\n",
       "total-nb-expl                    0\n",
       "total-nb-ha                      0\n",
       "region_name                      0\n",
       "sapin-nb-exploitation-is-null    0\n",
       "sapin-nb-hectare-is-null         0\n",
       "total-nb-ha-is-null              0\n",
       "dtype: int64"
      ]
     },
     "execution_count": 19,
     "metadata": {},
     "output_type": "execute_result"
    }
   ],
   "source": [
    "data.isnull().sum()"
   ]
  },
  {
   "cell_type": "markdown",
   "id": "efd47fa6-cfe0-4c19-a0d1-15ac47988604",
   "metadata": {},
   "source": [
    "## 3 - Export des données propres"
   ]
  },
  {
   "cell_type": "code",
   "execution_count": 20,
   "id": "b32cc758-a1cf-421f-9029-4f486e8de1d1",
   "metadata": {},
   "outputs": [],
   "source": [
    "data.to_csv(\"Documents/geoDataScience/defi_carto_sapin_2024/data/cleaned_sapin_data.csv\", index=False)"
   ]
  },
  {
   "cell_type": "markdown",
   "id": "ed6757ed",
   "metadata": {},
   "source": [
    "-- END -- "
   ]
  }
 ],
 "metadata": {
  "kernelspec": {
   "display_name": "Python 3 (ipykernel)",
   "language": "python",
   "name": "python3"
  },
  "language_info": {
   "codemirror_mode": {
    "name": "ipython",
    "version": 3
   },
   "file_extension": ".py",
   "mimetype": "text/x-python",
   "name": "python",
   "nbconvert_exporter": "python",
   "pygments_lexer": "ipython3",
   "version": "3.13.1"
  }
 },
 "nbformat": 4,
 "nbformat_minor": 5
}
